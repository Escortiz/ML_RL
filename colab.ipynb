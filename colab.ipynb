{
 "cells": [
  {
   "cell_type": "markdown",
   "id": "94b0e2bb",
   "metadata": {},
   "source": [
    "# Colab: Prueba rápida del proyecto ML_RL\n",
    "\n",
    "Notebook de Colab que clona el repositorio, instala dependencias (Colab-friendly), ejecuta un smoke test y corre un ejemplo corto de `test.py` o `train.py`.\n",
    "\n",
    "Repositorio por defecto: `https://github.com/Escortiz/ML_RL.git` — cambia la URL si quieres usar un fork o una copia en Drive.\n"
   ]
  },
  {
   "cell_type": "code",
   "execution_count": null,
   "id": "f499b379",
   "metadata": {},
   "outputs": [],
   "source": [
    "# 1) Configurar variables del repositorio\n",
    "REPO_URL = \"https://github.com/Escortiz/ML_RL.git\"\n",
    "BRANCH = \"main\"  # dejar vacío para usar la rama por defecto\n",
    "TARGET_DIR = \"repo\"\n",
    "\n",
    "print(f\"REPO_URL = {REPO_URL}\")\n",
    "print(f\"BRANCH = {BRANCH}\")\n",
    "print(f\"TARGET_DIR = {TARGET_DIR}\")\n",
    "\n",
    "# Si prefieres clonar desde Drive, define TARGET_DIR con la ruta de Drive, por ejemplo:\n",
    "# TARGET_DIR = '/content/drive/MyDrive/ML_RL'"
   ]
  },
  {
   "cell_type": "markdown",
   "id": "432bdc67",
   "metadata": {},
   "source": [
    "## 2) Montar Google Drive (opcional)\n",
    "\n",
    "Si quieres guardar modelos o videos persistentes en tu Drive, monta Google Drive y crea la carpeta destino. Ejecuta esta celda sólo si necesitas persistencia entre sesiones.\n",
    "\n",
    "```python\n",
    "from google.colab import drive\n",
    "# drive.mount('/content/drive')\n",
    "# !mkdir -p /content/drive/MyDrive/ML_RL_outputs\n",
    "```\n"
   ]
  },
  {
   "cell_type": "code",
   "execution_count": null,
   "id": "d57c6e3b",
   "metadata": {},
   "outputs": [],
   "source": [
    "# 3) Clonar repositorio desde GitHub y cambiar directorio\n",
    "import os\n",
    "import sys\n",
    "\n",
    "print('Clonando', REPO_URL)\n",
    "# si el directorio ya existe intentamos hacer pull\n",
    "if os.path.exists(TARGET_DIR):\n",
    "    print(f\"{TARGET_DIR} existe — actualizando (git pull)\")\n",
    "    %cd $TARGET_DIR\n",
    "    !git pull || echo 'git pull falló'\n",
    "else:\n",
    "    !git clone {REPO_URL} {TARGET_DIR}\n",
    "    %cd $TARGET_DIR\n",
    "\n",
    "# opcional: cambiar rama\n",
    "if BRANCH:\n",
    "    !git checkout {BRANCH} || echo 'git checkout falló o rama inexistente'"
   ]
  },
  {
   "cell_type": "markdown",
   "id": "a704bef7",
   "metadata": {},
   "source": [
    "## 4) Actualizar sistema e instalar dependencias de renderizado\n",
    "\n",
    "Ejecuta esto si vas a usar render/headless o necesitas compilar paquetes que requieren librerías del sistema. Puedes omitir esta celda si no es necesario."
   ]
  },
  {
   "cell_type": "code",
   "execution_count": null,
   "id": "dfdca007",
   "metadata": {},
   "outputs": [],
   "source": [
    "# 4) System deps (apt) - actualiza e instala librerías para render/headless\n",
    "!apt-get update -y\n",
    "!apt-get install -y libosmesa6-dev libgl1-mesa-glx libglfw3 swig ffmpeg || echo 'apt-get install falló - intenta re-ejecutar'"
   ]
  },
  {
   "cell_type": "markdown",
   "id": "a8deee56",
   "metadata": {},
   "source": [
    "## 5) Instalar/actualizar herramientas de Python y PyTorch\n",
    "\n",
    "Actualiza pip y herramientas de empaquetado y luego instala PyTorch (CPU por defecto). Si quieres GPU, cambia el comando según las instrucciones en https://pytorch.org/."
   ]
  },
  {
   "cell_type": "code",
   "execution_count": null,
   "id": "32e9fef6",
   "metadata": {},
   "outputs": [],
   "source": [
    "# upgrade packaging tools and install cython + torch (CPU)\n",
    "!pip install -U pip setuptools wheel\n",
    "!pip install -U cython\n",
    "!pip install torch torchvision torchaudio --index-url https://download.pytorch.org/whl/cpu\n",
    "\n",
    "# Si quieres GPU, reemplaza la línea anterior por el comando recomendado en pytorch.org para la versión de CUDA disponible."
   ]
  },
  {
   "cell_type": "markdown",
   "id": "de79bdac",
   "metadata": {},
   "source": [
    "## 6) Instalar dependencias del proyecto (requirements_colab.txt)\n",
    "\n",
    "Instala las dependencias adaptadas a Colab. Si falla la instalación por `gym`, el fallback comentado intenta una versión compatible."
   ]
  },
  {
   "cell_type": "code",
   "execution_count": null,
   "id": "df59b8ba",
   "metadata": {},
   "outputs": [],
   "source": [
    "# 6) Instalar dependencias del proyecto\n",
    "!pip install -r requirements_colab.txt || echo 'pip install -r requirements_colab.txt falló'\n",
    "\n",
    "# Fallback: si falla por gym, intenta una versión alternativa (descomenta si hace falta)\n",
    "# !pip install gym==0.26.2"
   ]
  },
  {
   "cell_type": "markdown",
   "id": "3d59934c",
   "metadata": {},
   "source": [
    "## 7) Configuración de MuJoCo (opcional)\n",
    "\n",
    "Si usas MuJoCo moderno puedes instalar la librería `mujoco` y configurar el render headless. Si tu proyecto usa `mujoco-py`, sigue la documentación de `mujoco-py` y añade la licencia si es necesario."
   ]
  },
  {
   "cell_type": "code",
   "execution_count": null,
   "id": "d7182c2e",
   "metadata": {},
   "outputs": [],
   "source": [
    "# 7) MuJoCo moderno (opcional)\n",
    "# !pip install mujoco\n",
    "# %env MUJOCO_GL=egl\n",
    "\n",
    "print('Si usas mujoco-py puede requerir pasos adicionales y una licencia; consulta la documentación.')"
   ]
  },
  {
   "cell_type": "markdown",
   "id": "76cec636",
   "metadata": {},
   "source": [
    "## 8) Smoke test rápido del agente\n",
    "\n",
    "Esta celda prueba que `agent.Policy` carga y hace un forward rápido con tensores de ejemplo. Si falla, revisa la salida del stack trace para ver import errors o fallos de dependencias."
   ]
  },
  {
   "cell_type": "code",
   "execution_count": null,
   "id": "06c71f36",
   "metadata": {},
   "outputs": [],
   "source": [
    "# Smoke test\n",
    "import torch\n",
    "from agent import Policy\n",
    "\n",
    "p = Policy(11, 3)\n",
    "s = torch.zeros(1, 11)\n",
    "d, v = p(s)\n",
    "print('mean', d.mean.shape, 'std', d.stddev.shape, 'value', v.shape)"
   ]
  },
  {
   "cell_type": "markdown",
   "id": "8bb19498",
   "metadata": {},
   "source": [
    "## 9) Ejecutar test/entrenamiento corto\n",
    "\n",
    "Ejecuta un test corto para verificar el loop de evaluación. Puedes ajustar variables arriba para cambiar número de episodios o ruta del modelo."
   ]
  },
  {
   "cell_type": "code",
   "execution_count": null,
   "id": "3d97e84d",
   "metadata": {},
   "outputs": [],
   "source": [
    "# CELDA: Ejecutar test parametrizado\n",
    "EPISODES = 2\n",
    "MODEL_PATH = './model.mdl'  # cambia a la ruta de tu modelo si es necesario\n",
    "\n",
    "print(f\"Ejecutando test con EPISODES={EPISODES}, MODEL_PATH={MODEL_PATH}\")\n",
    "!python test.py --episodes {EPISODES} --model {MODEL_PATH}\n",
    "\n",
    "# Si quieres ejecutar en background (no recomendado en Colab interactivo), usa:\n",
    "# !nohup python test.py --episodes {EPISODES} --model {MODEL_PATH} > test_log.txt 2>&1 &\n"
   ]
  },
  {
   "cell_type": "code",
   "execution_count": null,
   "id": "6868a91c",
   "metadata": {},
   "outputs": [],
   "source": [
    "# CELDA: Ejecutar train parametrizado\n",
    "N_EPISODES = 10\n",
    "DEVICE = 'cpu'  # o 'cuda' si instalaste torch con soporte CUDA\n",
    "\n",
    "print(f\"Ejecutando train con N_EPISODES={N_EPISODES}, DEVICE={DEVICE}\")\n",
    "# Ejecuta un entrenamiento corto\n",
    "!python train.py --n-episodes {N_EPISODES} --device {DEVICE}\n",
    "\n",
    "# Para ejecutar en background en Colab usar nohup (solo si necesitas desatender el proceso):\n",
    "# !nohup python train.py --n-episodes {N_EPISODES} --device {DEVICE} > train_log.txt 2>&1 &\n"
   ]
  }
 ],
 "metadata": {
  "language_info": {
   "name": "python"
  }
 },
 "nbformat": 4,
 "nbformat_minor": 5
}
